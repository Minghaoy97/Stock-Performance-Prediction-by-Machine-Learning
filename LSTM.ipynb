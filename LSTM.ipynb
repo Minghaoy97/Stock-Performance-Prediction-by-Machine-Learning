{
 "cells": [
  {
   "cell_type": "code",
   "execution_count": 1,
   "metadata": {},
   "outputs": [],
   "source": [
    "import math\n",
    "import matplotlib.pyplot as plt\n",
    "import tensorflow\n",
    "import pandas as pd\n",
    "import numpy as np"
   ]
  },
  {
   "cell_type": "code",
   "execution_count": 2,
   "metadata": {},
   "outputs": [],
   "source": [
    "from tensorflow.keras.models import Sequential\n",
    "from tensorflow.keras.layers import Dense\n",
    "from tensorflow.keras.layers import LSTM\n",
    "from tensorflow.keras.layers import Dropout\n",
    "from tensorflow.keras.layers import *\n",
    "from sklearn.preprocessing import MinMaxScaler\n",
    "from sklearn.metrics import mean_squared_error\n",
    "from sklearn.metrics import mean_absolute_error\n",
    "from sklearn.model_selection import train_test_split\n",
    "from tensorflow.keras.callbacks import EarlyStopping"
   ]
  },
  {
   "cell_type": "code",
   "execution_count": 3,
   "metadata": {},
   "outputs": [
    {
     "name": "stdout",
     "output_type": "stream",
     "text": [
      "HP_combined.csv\n"
     ]
    }
   ],
   "source": [
    "dataset=input()\n",
    "df=pd.read_csv(dataset)"
   ]
  },
  {
   "cell_type": "code",
   "execution_count": 4,
   "metadata": {},
   "outputs": [],
   "source": [
    "listofcolumnnumber=[4]\n",
    "for i in range(6,np.shape(df)[1]):\n",
    "    listofcolumnnumber.append(i)\n",
    "df.fillna(0, inplace=True)\n",
    "training_set = df.iloc[:, 4:5].values\n",
    "sc = MinMaxScaler(feature_range = (0, 1))\n",
    "training_set_scaled = sc.fit_transform(training_set)"
   ]
  },
  {
   "cell_type": "code",
   "execution_count": 5,
   "metadata": {},
   "outputs": [],
   "source": [
    "X_train = []\n",
    "y_train = []\n",
    "lag=60\n",
    "for i in range(4000,4500):\n",
    "    X_train.append(training_set_scaled[i-lag:i,:])\n",
    "    y_train.append(training_set_scaled[i+1, 0])\n",
    "X_train, y_train = np.array(X_train), np.array(y_train)"
   ]
  },
  {
   "cell_type": "code",
   "execution_count": 6,
   "metadata": {},
   "outputs": [
    {
     "data": {
      "text/plain": [
       "(500, 60, 1)"
      ]
     },
     "execution_count": 6,
     "metadata": {},
     "output_type": "execute_result"
    }
   ],
   "source": [
    "np.shape(X_train)"
   ]
  },
  {
   "cell_type": "code",
   "execution_count": 7,
   "metadata": {},
   "outputs": [
    {
     "name": "stdout",
     "output_type": "stream",
     "text": [
      "Epoch 1/50\n",
      "16/16 [==============================] - 1s 81ms/step - loss: 0.0591\n",
      "Epoch 2/50\n",
      "16/16 [==============================] - 1s 80ms/step - loss: 0.0106: 0s - loss: \n",
      "Epoch 3/50\n",
      "16/16 [==============================] - 1s 78ms/step - loss: 0.0159\n",
      "Epoch 4/50\n",
      "16/16 [==============================] - 1s 88ms/step - loss: 0.0150\n",
      "Epoch 5/50\n",
      "16/16 [==============================] - 1s 81ms/step - loss: 0.0113\n",
      "Epoch 6/50\n",
      "16/16 [==============================] - 1s 79ms/step - loss: 0.0092\n",
      "Epoch 7/50\n",
      "16/16 [==============================] - 1s 77ms/step - loss: 0.0082\n",
      "Epoch 8/50\n",
      "16/16 [==============================] - 1s 79ms/step - loss: 0.0088\n",
      "Epoch 9/50\n",
      "16/16 [==============================] - 1s 82ms/step - loss: 0.0090\n",
      "Epoch 10/50\n",
      "16/16 [==============================] - 1s 77ms/step - loss: 0.0087\n",
      "Epoch 11/50\n",
      "16/16 [==============================] - 1s 77ms/step - loss: 0.0084\n",
      "Epoch 12/50\n",
      "16/16 [==============================] - 1s 81ms/step - loss: 0.0076\n",
      "Epoch 13/50\n",
      "16/16 [==============================] - 1s 79ms/step - loss: 0.0076\n",
      "Epoch 14/50\n",
      "16/16 [==============================] - 1s 78ms/step - loss: 0.0078\n",
      "Epoch 15/50\n",
      "16/16 [==============================] - 1s 79ms/step - loss: 0.0071\n",
      "Epoch 16/50\n",
      "16/16 [==============================] - 1s 77ms/step - loss: 0.0062\n",
      "Epoch 17/50\n",
      "16/16 [==============================] - 1s 77ms/step - loss: 0.0066\n",
      "Epoch 18/50\n",
      "16/16 [==============================] - 1s 77ms/step - loss: 0.0063\n",
      "Epoch 19/50\n",
      "16/16 [==============================] - 1s 77ms/step - loss: 0.0064\n",
      "Epoch 20/50\n",
      "16/16 [==============================] - 1s 80ms/step - loss: 0.0062\n",
      "Epoch 21/50\n",
      "16/16 [==============================] - 1s 83ms/step - loss: 0.0058\n",
      "Epoch 22/50\n",
      "16/16 [==============================] - 1s 79ms/step - loss: 0.0054\n",
      "Epoch 23/50\n",
      "16/16 [==============================] - 1s 77ms/step - loss: 0.0051\n",
      "Epoch 24/50\n",
      "16/16 [==============================] - 1s 77ms/step - loss: 0.0048\n",
      "Epoch 25/50\n",
      "16/16 [==============================] - 1s 77ms/step - loss: 0.0051\n",
      "Epoch 26/50\n",
      "16/16 [==============================] - 1s 77ms/step - loss: 0.0050\n",
      "Epoch 27/50\n",
      "16/16 [==============================] - 1s 77ms/step - loss: 0.0047\n",
      "Epoch 28/50\n",
      "16/16 [==============================] - 1s 77ms/step - loss: 0.0043\n",
      "Epoch 29/50\n",
      "16/16 [==============================] - 1s 78ms/step - loss: 0.0042\n",
      "Epoch 30/50\n",
      "16/16 [==============================] - 1s 78ms/step - loss: 0.0043\n",
      "Epoch 31/50\n",
      "16/16 [==============================] - 1s 77ms/step - loss: 0.0042\n",
      "Epoch 32/50\n",
      "16/16 [==============================] - 1s 81ms/step - loss: 0.0045\n",
      "Epoch 33/50\n",
      "16/16 [==============================] - 1s 82ms/step - loss: 0.0048\n",
      "Epoch 34/50\n",
      "16/16 [==============================] - 1s 77ms/step - loss: 0.0039\n",
      "Epoch 35/50\n",
      "16/16 [==============================] - 1s 83ms/step - loss: 0.0032\n",
      "Epoch 36/50\n",
      "16/16 [==============================] - 1s 78ms/step - loss: 0.0030\n",
      "Epoch 37/50\n",
      "16/16 [==============================] - 1s 81ms/step - loss: 0.0030\n",
      "Epoch 38/50\n",
      "16/16 [==============================] - 1s 80ms/step - loss: 0.0036\n",
      "Epoch 39/50\n",
      "16/16 [==============================] - 1s 80ms/step - loss: 0.0036\n",
      "Epoch 40/50\n",
      "16/16 [==============================] - 1s 79ms/step - loss: 0.0045\n",
      "Epoch 41/50\n",
      "16/16 [==============================] - 1s 78ms/step - loss: 0.0039\n",
      "Epoch 42/50\n",
      "16/16 [==============================] - 1s 79ms/step - loss: 0.0040\n",
      "Epoch 43/50\n",
      "16/16 [==============================] - 1s 78ms/step - loss: 0.0037\n",
      "Epoch 44/50\n",
      "16/16 [==============================] - 1s 86ms/step - loss: 0.0030\n",
      "Epoch 45/50\n",
      "16/16 [==============================] - 1s 81ms/step - loss: 0.0023\n",
      "Epoch 46/50\n",
      "16/16 [==============================] - 1s 78ms/step - loss: 0.0023\n",
      "Epoch 47/50\n",
      "16/16 [==============================] - 1s 78ms/step - loss: 0.0029\n",
      "Epoch 48/50\n",
      "16/16 [==============================] - 1s 78ms/step - loss: 0.0032\n",
      "Epoch 49/50\n",
      "16/16 [==============================] - 1s 79ms/step - loss: 0.0032\n",
      "Epoch 50/50\n",
      "16/16 [==============================] - 1s 77ms/step - loss: 0.0025\n"
     ]
    }
   ],
   "source": [
    "model = Sequential()\n",
    "model.add(LSTM(units = 100, return_sequences = True, input_shape = (X_train.shape[1], X_train.shape[2])))\n",
    "model.add(Dropout(0.2))\n",
    "model.add(LSTM(units = 100, return_sequences = True))\n",
    "model.add(Dropout(0.2))\n",
    "model.add(LSTM(units = 100, return_sequences = True))\n",
    "model.add(Dropout(0.2))\n",
    "model.add(LSTM(units = 100))\n",
    "model.add(Dropout(0.2))\n",
    "model.add(Dense(units = 1))\n",
    "model.compile(optimizer = 'adam', loss = 'mean_squared_error')\n",
    "history_1=model.fit(X_train, y_train, epochs = 50, batch_size = 32, verbose=1, shuffle=False)\n"
   ]
  },
  {
   "cell_type": "code",
   "execution_count": 8,
   "metadata": {
    "scrolled": true
   },
   "outputs": [
    {
     "data": {
      "image/png": "[encoded data removed]",
      "text/plain": [
       "<Figure size 1080x504 with 1 Axes>"
      ]
     },
     "metadata": {
      "needs_background": "light"
     },
     "output_type": "display_data"
    }
   ],
   "source": [
    "X_test=[]\n",
    "for i in range(4500,np.shape(training_set_scaled)[0]-1):\n",
    "    X_test.append(training_set_scaled[i-lag:i,:])\n",
    "l = []\n",
    "for i in df[4500:][\"Date\"].values:\n",
    "    l.append(i[:-3])\n",
    "ticks = sorted(list(set(l)))\n",
    "X_test = np.array(X_test)\n",
    "predicted_stock_price = model.predict(X_test)\n",
    "trainPredict_dataset_like = np.zeros(shape=(np.shape(predicted_stock_price)[0],np.shape(X_test)[2]) )\n",
    "trainPredict_dataset_like[:,0]=predicted_stock_price[:,0]\n",
    "predicted_stock_price = sc.inverse_transform(trainPredict_dataset_like)[:,0]\n",
    "plt.figure(figsize=(15, 7))\n",
    "plt.plot(df.iloc[4500+1:np.shape(training_set_scaled)[0], 4:5].values, color = 'blue', label = 'Actual')\n",
    "plt.plot(predicted_stock_price, color = 'red', label = 'Predicted')\n",
    "plt.ylabel('Stock Price',fontsize=14)\n",
    "plt.title(\"Predict HP for 1 days\",fontsize=14)\n",
    "plt.xticks(np.arange(0,len(l)+1,20), sorted(list(set(l))), rotation=60)\n",
    "plt.legend()\n",
    "plt.show()"
   ]
  },
  {
   "cell_type": "code",
   "execution_count": 9,
   "metadata": {},
   "outputs": [],
   "source": [
    "y_true=df.iloc[4500+1:, 4:5].values"
   ]
  },
  {
   "cell_type": "code",
   "execution_count": 10,
   "metadata": {},
   "outputs": [],
   "source": [
    "y_true,y_pred=np.ravel(np.array(y_true)),np.array(predicted_stock_price)"
   ]
  },
  {
   "cell_type": "code",
   "execution_count": 11,
   "metadata": {},
   "outputs": [],
   "source": [
    "MSE_loss = np.mean(np.square(y_true - y_pred), axis=-1)"
   ]
  },
  {
   "cell_type": "code",
   "execution_count": 12,
   "metadata": {},
   "outputs": [
    {
     "data": {
      "text/plain": [
       "29.577336483303174"
      ]
     },
     "execution_count": 12,
     "metadata": {},
     "output_type": "execute_result"
    }
   ],
   "source": [
    "MSE_loss"
   ]
  },
  {
   "cell_type": "code",
   "execution_count": 14,
   "metadata": {},
   "outputs": [],
   "source": [
    "RMSE=np.sqrt(MSE_loss)"
   ]
  },
  {
   "cell_type": "code",
   "execution_count": 15,
   "metadata": {},
   "outputs": [
    {
     "data": {
      "text/plain": [
       "5.438504986051146"
      ]
     },
     "execution_count": 15,
     "metadata": {},
     "output_type": "execute_result"
    }
   ],
   "source": [
    "RMSE"
   ]
  },
  {
   "cell_type": "code",
   "execution_count": null,
   "metadata": {},
   "outputs": [],
   "source": []
  }
 ],
 "metadata": {
  "kernelspec": {
   "display_name": "Python 3",
   "language": "python",
   "name": "python3"
  },
  "language_info": {
   "codemirror_mode": {
    "name": "ipython",
    "version": 3
   },
   "file_extension": ".py",
   "mimetype": "text/x-python",
   "name": "python",
   "nbconvert_exporter": "python",
   "pygments_lexer": "ipython3",
   "version": "3.8.3"
  }
 },
 "nbformat": 4,
 "nbformat_minor": 4
}
